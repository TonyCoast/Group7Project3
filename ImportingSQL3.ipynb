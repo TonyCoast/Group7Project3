{
 "cells": [
  {
   "cell_type": "code",
   "execution_count": 32,
   "id": "6cb43a80-fb0d-44d2-ba2a-292dbafab4c9",
   "metadata": {},
   "outputs": [],
   "source": [
    "import sqlite3\n",
    "import pandas as pd"
   ]
  },
  {
   "cell_type": "code",
   "execution_count": null,
   "id": "fca5f5b4-91d1-411b-b008-adf8ee8a779d",
   "metadata": {},
   "outputs": [],
   "source": [
    "df = pd.read_csv('/Users/anisabraun/Downloads/Merged_CPI_Data.csv')"
   ]
  },
  {
   "cell_type": "code",
   "execution_count": null,
   "id": "1a98df22-9f53-493e-8477-1a59486f4a37",
   "metadata": {},
   "outputs": [],
   "source": [
    "df.columns = df.columns.str.strip()"
   ]
  },
  {
   "cell_type": "code",
   "execution_count": null,
   "id": "8e2d4648-ad87-4f49-ae83-382e5b5c9f20",
   "metadata": {},
   "outputs": [],
   "source": [
    "connection = sqlite3.connect('merged.db')"
   ]
  },
  {
   "cell_type": "code",
   "execution_count": null,
   "id": "9f9e8e8a-2ab8-4e48-becb-fe19f08ac535",
   "metadata": {},
   "outputs": [],
   "source": [
    "\n",
    "df.to_sql('cpi', connection, if_exists='replace')"
   ]
  },
  {
   "cell_type": "code",
   "execution_count": null,
   "id": "ecc57310-59db-457e-b385-9aa6fbfeae15",
   "metadata": {},
   "outputs": [],
   "source": [
    "connection.close()"
   ]
  }
 ],
 "metadata": {
  "kernelspec": {
   "display_name": "Python 3 (ipykernel)",
   "language": "python",
   "name": "python3"
  },
  "language_info": {
   "codemirror_mode": {
    "name": "ipython",
    "version": 3
   },
   "file_extension": ".py",
   "mimetype": "text/x-python",
   "name": "python",
   "nbconvert_exporter": "python",
   "pygments_lexer": "ipython3",
   "version": "3.9.13"
  }
 },
 "nbformat": 4,
 "nbformat_minor": 5
}
