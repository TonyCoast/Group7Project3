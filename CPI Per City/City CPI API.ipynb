{
 "cells": [
  {
   "cell_type": "code",
   "execution_count": 4,
   "id": "da1ea04e",
   "metadata": {},
   "outputs": [],
   "source": [
    "import pandas as pd\n",
    "import prettytable\n",
    "import csv\n",
    "import requests\n",
    "import json"
   ]
  },
  {
   "cell_type": "code",
   "execution_count": 7,
   "id": "e369ef84",
   "metadata": {},
   "outputs": [],
   "source": [
    "headers = {'Content-type': 'application/json'}\n",
    "data = json.dumps({\n",
    "    \"seriesid\": ['CUUSS35CSAF116', 'CUUSS23ASAF116', 'CUUSS48BSAF116', 'CUUSS35CSEFJ', 'CUUSS23ASEFJ', 'CUUSS48BSEFJ', 'CUUSS35CSAF112', 'CUUSS23ASAF112', 'CUUSS48BSAF112'],\n",
    "    \"startyear\": \"2017\",\n",
    "    \"endyear\": \"2022\"\n",
    "})\n",
    "\n",
    "p = requests.post('https://api.bls.gov/publicAPI/v2/timeseries/data/', data=data, headers=headers)\n",
    "json_data = json.loads(p.text)\n",
    "\n",
    "for series in json_data['Results']['series']:\n",
    "    seriesId = series['seriesID']\n",
    "    rows = []\n",
    "    for item in series['data']:\n",
    "        year = item['year']\n",
    "        period = item['period']\n",
    "        value = item['value']\n",
    "        footnotes = \"\"\n",
    "        for footnote in item['footnotes']:\n",
    "            if footnote:\n",
    "                footnotes += footnote['text'] + ','\n",
    "        if 'M01' <= period <= 'M12':\n",
    "            rows.append([seriesId, year, period, value, footnotes[:-1]])\n",
    "\n",
    "    with open(seriesId + '.csv', 'w', newline='') as file:\n",
    "        writer = csv.writer(file)\n",
    "        writer.writerow([\"series id\", \"year\", \"period\", \"value\", \"footnotes\"])\n",
    "        writer.writerows(rows)"
   ]
  },
  {
   "cell_type": "code",
   "execution_count": 5,
   "id": "a3cf5654",
   "metadata": {},
   "outputs": [],
   "source": [
    "\n"
   ]
  },
  {
   "cell_type": "code",
   "execution_count": null,
   "id": "ca2c2968",
   "metadata": {},
   "outputs": [],
   "source": []
  }
 ],
 "metadata": {
  "kernelspec": {
   "display_name": "Python 3 (ipykernel)",
   "language": "python",
   "name": "python3"
  },
  "language_info": {
   "codemirror_mode": {
    "name": "ipython",
    "version": 3
   },
   "file_extension": ".py",
   "mimetype": "text/x-python",
   "name": "python",
   "nbconvert_exporter": "python",
   "pygments_lexer": "ipython3",
   "version": "3.10.11"
  }
 },
 "nbformat": 4,
 "nbformat_minor": 5
}
