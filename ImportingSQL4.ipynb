{
 "cells": [
  {
   "cell_type": "code",
   "execution_count": 2,
   "id": "1412c0e8-5677-4735-88c2-69c330996fbf",
   "metadata": {},
   "outputs": [],
   "source": [
    "import sqlite3\n"
   ]
  },
  {
   "cell_type": "code",
   "execution_count": 3,
   "id": "b9501d79-a114-4efc-a275-a3b93637b9cf",
   "metadata": {},
   "outputs": [],
   "source": [
    "conn = sqlite3.connect('Database3.db')"
   ]
  },
  {
   "cell_type": "code",
   "execution_count": 45,
   "id": "73edcd64-8264-4a86-9832-f613705ac918",
   "metadata": {},
   "outputs": [],
   "source": [
    "cursor = conn.cursor()\n"
   ]
  },
  {
   "cell_type": "code",
   "execution_count": 46,
   "id": "6ee0ef8e-2b35-4bfc-85d0-2f367a8a6815",
   "metadata": {},
   "outputs": [
    {
     "ename": "OperationalError",
     "evalue": "no such table: Merged CPI data",
     "output_type": "error",
     "traceback": [
      "\u001b[0;31m---------------------------------------------------------------------------\u001b[0m",
      "\u001b[0;31mOperationalError\u001b[0m                          Traceback (most recent call last)",
      "\u001b[0;32m/var/folders/ny/4n37711161zdsgc3q1vxpv9m0000gp/T/ipykernel_32040/1437043400.py\u001b[0m in \u001b[0;36m<module>\u001b[0;34m\u001b[0m\n\u001b[0;32m----> 1\u001b[0;31m \u001b[0mcursor\u001b[0m\u001b[0;34m.\u001b[0m\u001b[0mexecute\u001b[0m\u001b[0;34m(\u001b[0m\u001b[0;34m'SELECT * FROM \"Merged CPI data\"'\u001b[0m\u001b[0;34m)\u001b[0m\u001b[0;34m\u001b[0m\u001b[0;34m\u001b[0m\u001b[0m\n\u001b[0m",
      "\u001b[0;31mOperationalError\u001b[0m: no such table: Merged CPI data"
     ]
    }
   ],
   "source": [
    "cursor.execute('SELECT * FROM \"Merged CPI data\"')"
   ]
  },
  {
   "cell_type": "code",
   "execution_count": 47,
   "id": "54ed21d4-a9fa-4257-860e-8910ff156b5e",
   "metadata": {},
   "outputs": [],
   "source": [
    "results = cursor.fetchall()\n",
    "    "
   ]
  },
  {
   "cell_type": "code",
   "execution_count": 48,
   "id": "8cdb9407-d72e-4140-96c8-6a0a30c1c9c1",
   "metadata": {},
   "outputs": [],
   "source": [
    "conn.close()"
   ]
  },
  {
   "cell_type": "code",
   "execution_count": 49,
   "id": "f042ce3b-b924-4424-927b-05e9fd6b15ea",
   "metadata": {},
   "outputs": [],
   "source": [
    "import sqlite3\n",
    "import csv"
   ]
  },
  {
   "cell_type": "code",
   "execution_count": 50,
   "id": "b64b87e5-4dbc-462b-bc61-7440cee3fb25",
   "metadata": {},
   "outputs": [],
   "source": [
    "conn = sqlite3.connect('Project3.db')"
   ]
  },
  {
   "cell_type": "code",
   "execution_count": 51,
   "id": "2a13f4e0-8dd4-494c-b092-102b87465b70",
   "metadata": {},
   "outputs": [],
   "source": [
    "cursor = conn.cursor()"
   ]
  },
  {
   "cell_type": "code",
   "execution_count": 52,
   "id": "d6577ac5-8a45-4971-bd7f-d3d8bd12a48f",
   "metadata": {},
   "outputs": [],
   "source": [
    "with open ('/Users/anisabraun/Downloads/Merged CPI Data.csv', 'r') as file:\n",
    "    reader = csv.reader(file)"
   ]
  },
  {
   "cell_type": "code",
   "execution_count": 53,
   "id": "cbb3b542-c218-49a3-a538-13e8a5af20bd",
   "metadata": {},
   "outputs": [
    {
     "ename": "SyntaxError",
     "evalue": "unexpected EOF while parsing (4027676078.py, line 1)",
     "output_type": "error",
     "traceback": [
      "\u001b[0;36m  File \u001b[0;32m\"/var/folders/ny/4n37711161zdsgc3q1vxpv9m0000gp/T/ipykernel_32040/4027676078.py\"\u001b[0;36m, line \u001b[0;32m1\u001b[0m\n\u001b[0;31m    cursor.executemany('INSERT INTO cpi2 VALUES (?, ?, ...)'\u001b[0m\n\u001b[0m                                                            ^\u001b[0m\n\u001b[0;31mSyntaxError\u001b[0m\u001b[0;31m:\u001b[0m unexpected EOF while parsing\n"
     ]
    }
   ],
   "source": [
    "cursor.executemany('INSERT INTO cpi2 VALUES (?, ?, ...)'"
   ]
  },
  {
   "cell_type": "code",
   "execution_count": 35,
   "id": "ab494160-6a1c-4a3b-9793-4d29fe51144e",
   "metadata": {},
   "outputs": [],
   "source": [
    "conn = sqlite3.connect('Database3.db')"
   ]
  },
  {
   "cell_type": "code",
   "execution_count": 36,
   "id": "ff04ba21-1616-4291-8afd-fd8a1f43384f",
   "metadata": {},
   "outputs": [],
   "source": [
    "cursor = conn.cursor()"
   ]
  },
  {
   "cell_type": "code",
   "execution_count": 37,
   "id": "f1dd5ac7-28d6-41ea-8fc9-44167fb01353",
   "metadata": {},
   "outputs": [
    {
     "ename": "OperationalError",
     "evalue": "no such table: PPI",
     "output_type": "error",
     "traceback": [
      "\u001b[0;31m---------------------------------------------------------------------------\u001b[0m",
      "\u001b[0;31mOperationalError\u001b[0m                          Traceback (most recent call last)",
      "\u001b[0;32m/var/folders/ny/4n37711161zdsgc3q1vxpv9m0000gp/T/ipykernel_32040/2352351869.py\u001b[0m in \u001b[0;36m<module>\u001b[0;34m\u001b[0m\n\u001b[0;32m----> 1\u001b[0;31m \u001b[0mcursor\u001b[0m\u001b[0;34m.\u001b[0m\u001b[0mexecute\u001b[0m\u001b[0;34m(\u001b[0m\u001b[0;34m'SELECT * FROM PPI'\u001b[0m\u001b[0;34m)\u001b[0m\u001b[0;34m\u001b[0m\u001b[0;34m\u001b[0m\u001b[0m\n\u001b[0m",
      "\u001b[0;31mOperationalError\u001b[0m: no such table: PPI"
     ]
    }
   ],
   "source": [
    "cursor.execute('SELECT * FROM PPI')"
   ]
  },
  {
   "cell_type": "code",
   "execution_count": null,
   "id": "28e6ba41-9d70-4f06-850d-455f7ecac751",
   "metadata": {},
   "outputs": [],
   "source": []
  },
  {
   "cell_type": "code",
   "execution_count": null,
   "id": "1c8bf6ce-6d3d-415d-afd7-6b5b860c494c",
   "metadata": {},
   "outputs": [],
   "source": []
  },
  {
   "cell_type": "code",
   "execution_count": null,
   "id": "38ada933-179c-475a-b9a6-215312c2260c",
   "metadata": {},
   "outputs": [],
   "source": []
  },
  {
   "cell_type": "code",
   "execution_count": null,
   "id": "4034c656-9604-44f3-9c57-c35b076d3066",
   "metadata": {},
   "outputs": [],
   "source": []
  },
  {
   "cell_type": "code",
   "execution_count": null,
   "id": "20a14100-da82-401c-86c3-c1ae7256afdc",
   "metadata": {},
   "outputs": [],
   "source": []
  },
  {
   "cell_type": "code",
   "execution_count": null,
   "id": "376c60e2-66fd-4e40-9f0f-9fe47677496e",
   "metadata": {},
   "outputs": [],
   "source": []
  }
 ],
 "metadata": {
  "kernelspec": {
   "display_name": "Python 3 (ipykernel)",
   "language": "python",
   "name": "python3"
  },
  "language_info": {
   "codemirror_mode": {
    "name": "ipython",
    "version": 3
   },
   "file_extension": ".py",
   "mimetype": "text/x-python",
   "name": "python",
   "nbconvert_exporter": "python",
   "pygments_lexer": "ipython3",
   "version": "3.9.13"
  }
 },
 "nbformat": 4,
 "nbformat_minor": 5
}
