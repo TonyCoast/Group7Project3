{
 "cells": [
  {
   "cell_type": "code",
   "execution_count": 3,
   "id": "199c9565",
   "metadata": {},
   "outputs": [],
   "source": [
    "import prettytable\n",
    "import requests\n",
    "import json\n",
    "import prettytable"
   ]
  },
  {
   "cell_type": "code",
   "execution_count": 5,
   "id": "17916415",
   "metadata": {},
   "outputs": [],
   "source": [
    "headers = {'Content-type': 'application/json'}\n",
    "data = json.dumps({\"seriesid\": ['WPS0261', 'WPS022', 'WPS023'], \"startyear\": \"2013\", \"endyear\": \"2023\"})\n",
    "p = requests.post('https://api.bls.gov/publicAPI/v2/timeseries/data/', data=data, headers=headers)\n",
    "json_data = json.loads(p.text)\n",
    "\n",
    "for series in json_data['Results']['series']:\n",
    "    x = prettytable.PrettyTable([\"series id\", \"year\", \"period\", \"value\", \"footnotes\"])\n",
    "    seriesId = series['seriesID']\n",
    "\n",
    "    for item in series['data']:\n",
    "        year = item['year']\n",
    "        period = item['period']\n",
    "        value = item['value']\n",
    "        footnotes = \"\"\n",
    "        \n",
    "        for footnote in item['footnotes']:\n",
    "            if footnote:\n",
    "                footnotes = footnotes + footnote['text'] + ','\n",
    "        \n",
    "        if 'M01' <= period <= 'M12':\n",
    "            x.add_row([seriesId, year, period, value, footnotes[:-1]])\n",
    "\n",
    "    output = open(seriesId + '.csv', 'w')\n",
    "    output.write(x.get_csv_string())\n",
    "    output.close()\n"
   ]
  },
  {
   "cell_type": "code",
   "execution_count": null,
   "id": "2ba6e02a",
   "metadata": {},
   "outputs": [],
   "source": []
  }
 ],
 "metadata": {
  "kernelspec": {
   "display_name": "Python 3 (ipykernel)",
   "language": "python",
   "name": "python3"
  },
  "language_info": {
   "codemirror_mode": {
    "name": "ipython",
    "version": 3
   },
   "file_extension": ".py",
   "mimetype": "text/x-python",
   "name": "python",
   "nbconvert_exporter": "python",
   "pygments_lexer": "ipython3",
   "version": "3.10.11"
  }
 },
 "nbformat": 4,
 "nbformat_minor": 5
}
