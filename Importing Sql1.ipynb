{
 "cells": [
  {
   "cell_type": "code",
   "execution_count": 10,
   "id": "d3cdb911-de54-4847-9866-b0fda7f4e482",
   "metadata": {},
   "outputs": [],
   "source": [
    "%load_ext sql"
   ]
  },
  {
   "cell_type": "code",
   "execution_count": 11,
   "id": "0d674519-b896-4dc5-aff6-28b1d75077ba",
   "metadata": {},
   "outputs": [],
   "source": [
    "%sql sqlite:///merged.db"
   ]
  },
  {
   "cell_type": "code",
   "execution_count": 16,
   "id": "cb3e31a4-46a9-42ce-80cb-bac15da32155",
   "metadata": {},
   "outputs": [
    {
     "name": "stdout",
     "output_type": "stream",
     "text": [
      " * sqlite:///merged.db\n",
      "(sqlite3.OperationalError) no such table: Merged_CPI_Data\n",
      "[SQL: SELECT * FROM Merged_CPI_Data]\n",
      "(Background on this error at: https://sqlalche.me/e/20/e3q8)\n"
     ]
    }
   ],
   "source": [
    "%sql SELECT * FROM Merged_CPI_Data\n"
   ]
  },
  {
   "cell_type": "code",
   "execution_count": null,
   "id": "e9592fed-9209-430a-a205-c00163098521",
   "metadata": {},
   "outputs": [],
   "source": []
  },
  {
   "cell_type": "code",
   "execution_count": null,
   "id": "51ef682e-d6c3-4fbe-940c-b436f0903281",
   "metadata": {},
   "outputs": [],
   "source": []
  },
  {
   "cell_type": "code",
   "execution_count": null,
   "id": "32fe1050-cdde-44b7-ad72-3df69c242ea9",
   "metadata": {},
   "outputs": [],
   "source": []
  }
 ],
 "metadata": {
  "kernelspec": {
   "display_name": "Python 3 (ipykernel)",
   "language": "python",
   "name": "python3"
  },
  "language_info": {
   "codemirror_mode": {
    "name": "ipython",
    "version": 3
   },
   "file_extension": ".py",
   "mimetype": "text/x-python",
   "name": "python",
   "nbconvert_exporter": "python",
   "pygments_lexer": "ipython3",
   "version": "3.9.13"
  }
 },
 "nbformat": 4,
 "nbformat_minor": 5
}
