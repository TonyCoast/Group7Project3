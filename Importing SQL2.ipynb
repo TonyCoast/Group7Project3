{
 "cells": [
  {
   "cell_type": "code",
   "execution_count": 52,
   "id": "b703c5cd-26a0-4623-b91d-859c3e59bd3e",
   "metadata": {},
   "outputs": [],
   "source": [
    "import sqlite3\n",
    "import csv"
   ]
  },
  {
   "cell_type": "code",
   "execution_count": 54,
   "id": "6e5872ad-608f-4b46-b404-4aed90e4bab6",
   "metadata": {},
   "outputs": [],
   "source": [
    "conn = sqlite3.connect('Project3.db')\n"
   ]
  },
  {
   "cell_type": "code",
   "execution_count": 55,
   "id": "ce4860fb-2cf6-44c8-b20d-e0aedbf13f88",
   "metadata": {},
   "outputs": [],
   "source": [
    "cursor = conn.cursor()"
   ]
  },
  {
   "cell_type": "code",
   "execution_count": 57,
   "id": "783c48c6-9d13-4ae8-b4dd-6ccbda13ee65",
   "metadata": {},
   "outputs": [],
   "source": [
    "with open ('/Users/anisabraun/Downloads/Merged CPI Data.csv', 'r') as file:\n",
    "    reader = csv.reader(file)"
   ]
  },
  {
   "cell_type": "code",
   "execution_count": 61,
   "id": "7e7bb4cb-3516-4983-8978-1c104db55fc1",
   "metadata": {},
   "outputs": [
    {
     "ename": "SyntaxError",
     "evalue": "unexpected EOF while parsing (2528679853.py, line 1)",
     "output_type": "error",
     "traceback": [
      "\u001b[0;36m  File \u001b[0;32m\"/var/folders/ny/4n37711161zdsgc3q1vxpv9m0000gp/T/ipykernel_31044/2528679853.py\"\u001b[0;36m, line \u001b[0;32m1\u001b[0m\n\u001b[0;31m    cursor.executemany('INSERT INTO cpi2 (VALUES))'\u001b[0m\n\u001b[0m                                                   ^\u001b[0m\n\u001b[0;31mSyntaxError\u001b[0m\u001b[0;31m:\u001b[0m unexpected EOF while parsing\n"
     ]
    }
   ],
   "source": [
    "cursor.executemany('INSERT INTO cpi2 VALUES (?, ?, ...))'"
   ]
  }
 ],
 "metadata": {
  "kernelspec": {
   "display_name": "Python 3 (ipykernel)",
   "language": "python",
   "name": "python3"
  },
  "language_info": {
   "codemirror_mode": {
    "name": "ipython",
    "version": 3
   },
   "file_extension": ".py",
   "mimetype": "text/x-python",
   "name": "python",
   "nbconvert_exporter": "python",
   "pygments_lexer": "ipython3",
   "version": "3.9.13"
  }
 },
 "nbformat": 4,
 "nbformat_minor": 5
}
